{
 "cells": [
  {
   "cell_type": "markdown",
   "id": "63d057bc-2670-4284-8e37-d1120a9994ca",
   "metadata": {},
   "source": [
    "## In this codebase, the given data would be examined and data quality issues would be marked for them"
   ]
  },
  {
   "cell_type": "code",
   "execution_count": 1,
   "id": "9d50247d-2719-4d1e-8463-ab0122fc4dd9",
   "metadata": {},
   "outputs": [],
   "source": [
    "import pandas as pd\n",
    "import sqlite3"
   ]
  },
  {
   "cell_type": "code",
   "execution_count": 2,
   "id": "8682e098-f443-409e-835f-9ccdcbb2ab10",
   "metadata": {},
   "outputs": [],
   "source": [
    "# creating in-memory SQL database\n",
    "conn = sqlite3.connect(':memory:') "
   ]
  },
  {
   "cell_type": "code",
   "execution_count": 3,
   "id": "59b7d4bb-3274-457d-8fce-02346a2d4b52",
   "metadata": {},
   "outputs": [],
   "source": [
    "# reading the CSV files \n",
    "users = pd.read_csv(\"../cleansed_file/users_cleansed_data.csv\")\n",
    "brands = pd.read_csv(\"../cleansed_file/brands_cleansed_data.csv\")\n",
    "receipts = pd.read_csv(\"../cleansed_file/cleansed_receipts.csv\")\n",
    "receipts_items = pd.read_csv(\"../cleansed_file/cleansed_receipt_items.csv\")"
   ]
  },
  {
   "cell_type": "code",
   "execution_count": 4,
   "id": "2de630a2-8b05-490b-a1c7-d2db0fbd9027",
   "metadata": {},
   "outputs": [
    {
     "data": {
      "text/plain": [
       "6941"
      ]
     },
     "execution_count": 4,
     "metadata": {},
     "output_type": "execute_result"
    }
   ],
   "source": [
    "# creating tables in the in-memory SQLite database using the dataframe\n",
    "users.to_sql('users', conn, index=False, if_exists='replace')\n",
    "brands.to_sql('brands', conn, index=False, if_exists='replace')\n",
    "receipts.to_sql('receipts', conn, index=False, if_exists='replace')\n",
    "receipts_items.to_sql('receipts_items', conn, index=False, if_exists='replace')"
   ]
  },
  {
   "cell_type": "markdown",
   "id": "036fc93e-e3f5-47c8-970f-327319e16805",
   "metadata": {
    "jp-MarkdownHeadingCollapsed": true
   },
   "source": [
    "# Finding data quality issues in ***USERS*** table"
   ]
  },
  {
   "cell_type": "code",
   "execution_count": 5,
   "id": "68c5fab2-59b7-41c3-b47a-d164dc352d93",
   "metadata": {},
   "outputs": [
    {
     "name": "stdout",
     "output_type": "stream",
     "text": [
      "                  userID signUpSource state  active        role createdDate  lastLogin\n",
      "59c124bae4b0299e55b0f330         None    WI       1 fetch-staff  2017-09-19 2021-02-08\n",
      "5f2068904928021530f8fc34        Email    WI       1 fetch-staff  2020-07-28 2021-02-04\n",
      "5fbc35711d967d1222cbfefc        Email  None       1 fetch-staff  2020-11-23 2021-02-26\n",
      "5fc961c3b8cfca11a077dd33        Email    NH       1 fetch-staff  2020-12-03 2021-02-26\n",
      "5fa41775898c7a11a6bcef3e        Email  None       1 fetch-staff  2020-11-05 2021-03-04\n",
      "5fa32b4d898c7a11a6bcebce       Google    AL       1 fetch-staff  2020-11-04 2021-03-04\n",
      "5964eb07e4b03efd0c0f267b         None    IL       1 fetch-staff  2017-07-11 2021-03-04\n",
      "54943462e4b07e684157a532         None  None       1 fetch-staff  2014-12-19 2021-03-05\n"
     ]
    }
   ],
   "source": [
    "# finding users whose role is not a consumer\n",
    "user_role = \"select * from users where role != 'consumer'\"\n",
    "user_role_df = pd.read_sql(user_role, conn)\n",
    "print(user_role_df.to_string(index=False))"
   ]
  },
  {
   "cell_type": "markdown",
   "id": "a8ad40d3-5649-4172-917a-0683ce769f5f",
   "metadata": {},
   "source": [
    "#### ***Analysis:***  In the documentation it was mentioned that the role field is defaulted to consumers, but few records had fetch-staff as their value. So, should we consider these userID in any of the analyses?"
   ]
  },
  {
   "cell_type": "code",
   "execution_count": 6,
   "id": "48d7b7e1-cf93-4ffd-9a1b-31fafd4b8478",
   "metadata": {},
   "outputs": [
    {
     "name": "stdout",
     "output_type": "stream",
     "text": [
      "userID           0\n",
      "signUpSource     5\n",
      "state            6\n",
      "active           0\n",
      "role             0\n",
      "createdDate      0\n",
      "lastLogin       40\n",
      "dtype: int64\n"
     ]
    }
   ],
   "source": [
    "# finding count of missing values from every column in the user table\n",
    "print(users.isnull().sum())"
   ]
  },
  {
   "cell_type": "markdown",
   "id": "2fc6cc74-cf2c-41a5-ab5f-733b38aeda50",
   "metadata": {},
   "source": [
    "#### ***Analysis:*** Few values were missing in the user table, as there were 5 missing values in signUpSource, 6 in state, and 40 in lastLogin. "
   ]
  },
  {
   "cell_type": "markdown",
   "id": "25cd0f1f-3fd7-4317-bed5-c6516966a615",
   "metadata": {},
   "source": [
    "#### ***Important Analysis:*** There were a lot of duplicate records in the user tables (more than half), which needed to be cleansed\n",
    " "
   ]
  },
  {
   "cell_type": "markdown",
   "id": "717b90d6-73f1-4e9a-9c36-ab1c16ffa4d6",
   "metadata": {},
   "source": [
    "# Finding data quality issues in ***Brands*** table"
   ]
  },
  {
   "cell_type": "code",
   "execution_count": 7,
   "id": "7c8694e7-feba-4a45-bc22-078a3eb6f09e",
   "metadata": {},
   "outputs": [
    {
     "name": "stdout",
     "output_type": "stream",
     "text": [
      "brandID           0\n",
      "barcode           0\n",
      "brandName         0\n",
      "brandCode       269\n",
      "category        155\n",
      "categoryCode    650\n",
      "cpgID             0\n",
      "cpgRef            0\n",
      "topBrand        612\n",
      "dtype: int64\n"
     ]
    }
   ],
   "source": [
    "# finding count of missing values from every column in the brands table\n",
    "print(brands.isnull().sum())"
   ]
  },
  {
   "cell_type": "markdown",
   "id": "1403afaf-14a1-4ee2-9ea9-56e24f16ba65",
   "metadata": {},
   "source": [
    "#### ***Analysis:*** There are a lot of missing values from the brands table, brandCode has 269  missing records, category has 155, categoryCode has 650 and topBrand 612"
   ]
  },
  {
   "cell_type": "code",
   "execution_count": 8,
   "id": "d4b341fa-d581-4328-ac79-2c55a8d63c4e",
   "metadata": {},
   "outputs": [
    {
     "name": "stdout",
     "output_type": "stream",
     "text": [
      " testBrands_count\n",
      "              432\n"
     ]
    }
   ],
   "source": [
    "# finding brands which are dummy/ test brands\n",
    "test_brands = \"select count(1) testBrands_count from brands where brandName LIKE '%test%'\"\n",
    "test_brands_df = pd.read_sql(test_brands, conn)\n",
    "print(test_brands_df.to_string(index=False))"
   ]
  },
  {
   "cell_type": "markdown",
   "id": "e3e40050-3a2b-4b33-b086-e167f7aa8578",
   "metadata": {},
   "source": [
    "#### ***Analysis:*** There are a lot of test data in the brands table, do we need them in the analysis?"
   ]
  },
  {
   "cell_type": "code",
   "execution_count": 9,
   "id": "ebfb7346-28ec-4e3c-a756-613bfaf5bf8e",
   "metadata": {},
   "outputs": [
    {
     "name": "stdout",
     "output_type": "stream",
     "text": [
      "                 brandID      barcode            brandName     brandCode            category  topBrand\n",
      "5c409ab4cd244a3539b84162 511111004790                alexa         ALEXA              Baking       1.0\n",
      "5cdacd63166eb33eb7ce0fa8 511111004790      Bitten Dressing        BITTEN Condiments & Sauces       NaN\n",
      "5c45f91b87ff3552f950f027 511111204923               Brand1    0987654321             Grocery       1.0\n",
      "5d6027f46d5f3b23d1bc7906 511111204923            CHESTER'S      CHESTERS              Snacks       NaN\n",
      "5c4699f387ff3577e203ea29 511111305125     Chris Image Test    CHRISIMAGE                Baby       NaN\n",
      "5d642d65a3a018514994f42d 511111305125 Rachael Ray Everyday  511111305125           Magazines       NaN\n",
      "5a7e0604e4b0aedb3b84afd3 511111504139      Chris Brand XYZ      CHRISXYZ           Beverages       NaN\n",
      "5a8c33f3e4b07f0a2dac8943 511111504139                 Pace          PACE             Grocery       0.0\n",
      "5c408e8bcd244a1fdb47aee7 511111504788                 test          TEST              Baking       NaN\n",
      "5ccb2ece166eb31bbbadccbe 511111504788    The Pioneer Woman PIONEER WOMAN Condiments & Sauces       NaN\n",
      "5d6415d5a3a018514994f429 511111605058      Health Magazine  511111605058           Magazines       NaN\n",
      "5c4637ba87ff35681e840d57 511111605058               Brand2   09090909090               Dairy       1.0\n",
      "5a8c344ae4b0ccf165fac9e5 511111704140                Prego         PREGO Condiments & Sauces       0.0\n",
      "5a7e0665e4b0aedb3b84afd4 511111704140      Diet Chris Cola    DIETCHRIS2                None       NaN\n"
     ]
    }
   ],
   "source": [
    "# finding duplicate barcode\n",
    "dup_barcode = \"\"\"select brandID, barcode, brandName, brandCode,category,topBrand from brands \n",
    "                 where barcode in (select barcode duplicate_barcode from brands group by barcode having count(barcode)>1)\n",
    "                 order by barcode\"\"\"\n",
    "dup_barcode_df = pd.read_sql(dup_barcode, conn)\n",
    "print(dup_barcode_df.to_string(index=False))"
   ]
  },
  {
   "cell_type": "markdown",
   "id": "f2b003c6-234c-46d4-bfad-773d0ca586c0",
   "metadata": {},
   "source": [
    "#### ***Analysis:*** As per the documentation, granularity of the brand table is at the brand level but it has a barcode column which corresponds to barcode of an item, if we have multiple items in a brand how are we showing multiple barcodes for a single brand? Also, it can be seen that there are duplicate entries for a barcode and the repeating barcodes have different values for every field."
   ]
  },
  {
   "cell_type": "code",
   "execution_count": 10,
   "id": "262bcce5-1aec-4d5e-a133-4fe3fc4c03d5",
   "metadata": {},
   "outputs": [
    {
     "name": "stdout",
     "output_type": "stream",
     "text": [
      "                 brandID      barcode brandName brandCode category categoryCode                    cpgID cpgRef  topBrand\n",
      "5db32879ee7f2d6de4248976 511111112938 GoodNites GOODNITES     Baby         BABY 55b62995e4b0d8e685c14213   Cogs         1\n",
      "5bd200fc965c7d66d92731eb 511111204640 Goodnites GOODNITES     Baby         None 550b2565e4b001d5e9e4146f   Cogs         0\n",
      "5bd2011f90fa074576779a17 511111704652   Huggies   HUGGIES     Baby         None 550b2565e4b001d5e9e4146f   Cogs         0\n",
      "5c7d9cb395144c337a3cbfbb 511111707202   Huggies   HUGGIES     Baby         BABY 5459429be4b0bfcb1e864082   Cogs         1\n"
     ]
    }
   ],
   "source": [
    "# finding duplicate BrandCode \n",
    "dup_brandCode = \"select * from brands where brandCode in('GOODNITES', 'HUGGIES') order by brandCode\"\n",
    "dup_brandCode_df = pd.read_sql(dup_brandCode, conn)\n",
    "print(dup_brandCode_df.to_string(index=False))"
   ]
  },
  {
   "cell_type": "markdown",
   "id": "8496332b-8754-45c4-8758-af64c0867f96",
   "metadata": {
    "jp-MarkdownHeadingCollapsed": true
   },
   "source": [
    "#### ***Analysis:*** There are duplicate entries for brandCode, and these brandCode have the same brandName, and fall under the same category but topBrand flag is different for them."
   ]
  },
  {
   "cell_type": "code",
   "execution_count": 11,
   "id": "5e3b5b6b-0b88-4d05-a613-d291093a7a7f",
   "metadata": {},
   "outputs": [
    {
     "name": "stdout",
     "output_type": "stream",
     "text": [
      "                   category  cpgID_count\n",
      "     Beauty & Personal Care            1\n",
      "             Bread & Bakery            1\n",
      "             Candy & Sweets            1\n",
      "                       Deli            1\n",
      "                    Outdoor            1\n",
      "                     Beauty            2\n",
      "       Canned Goods & Soups            2\n",
      "Cleaning & Home Improvement            2\n",
      "       Dairy & Refrigerated            2\n",
      "                  Household            2\n",
      "              Personal Care            2\n",
      "          Beer Wine Spirits            3\n",
      "        Condiments & Sauces            4\n",
      "                      Dairy            4\n",
      "                     Frozen            4\n",
      "          Health & Wellness            4\n",
      "                  Magazines            4\n",
      "         Breakfast & Cereal            5\n",
      "                     Snacks            6\n",
      "                  Beverages            7\n",
      "                       Baby            9\n",
      "                    Grocery            9\n",
      "                     Baking          149\n"
     ]
    }
   ],
   "source": [
    "# cpgID \n",
    "\n",
    "cateogry_cpgID = \"select category, count(distinct cpgID) cpgID_count from brands where category!='' group by category order by cpgID_count;\"\n",
    "cateogry_cpgID_df = pd.read_sql(cateogry_cpgID, conn)\n",
    "print(cateogry_cpgID_df.to_string(index=False))"
   ]
  },
  {
   "cell_type": "markdown",
   "id": "3b4ff7e4-6703-49df-af6b-fea2619996ef",
   "metadata": {},
   "source": [
    "#### ***Analysis:*** To my understanding cpgID represents a category or grouping of similar products, but as per the data multiple cpgID belongs to the same category. For eg: Beauty & Personal Care, Bread & Bakery, Candy & Sweets, Deli, Outdoor have 1 cpgID but rest of the categories have multiple cpgID."
   ]
  },
  {
   "cell_type": "markdown",
   "id": "2bda6c34-f8a0-4076-8769-09822674d87d",
   "metadata": {
    "jp-MarkdownHeadingCollapsed": true
   },
   "source": [
    "# Finding data quality issues in ***Receipts*** table"
   ]
  },
  {
   "cell_type": "code",
   "execution_count": 12,
   "id": "e6db40d1-3f24-436d-8717-3f50def545e5",
   "metadata": {},
   "outputs": [
    {
     "name": "stdout",
     "output_type": "stream",
     "text": [
      "receiptID                    0\n",
      "bonusPointsEarned          575\n",
      "bonusPointsEarnedReason    575\n",
      "createDate                   0\n",
      "dateScanned                  0\n",
      "finishedDate               551\n",
      "modifyDate                   0\n",
      "pointsAwardedDate          582\n",
      "pointsEarned               510\n",
      "purchaseDate               448\n",
      "purchasedItemCount         484\n",
      "rewardsReceiptStatus         0\n",
      "totalSpent                 435\n",
      "userID                       0\n",
      "dtype: int64\n"
     ]
    }
   ],
   "source": [
    "# finding count of missing values from every column in the receipts table\n",
    "print(receipts.isnull().sum())"
   ]
  },
  {
   "cell_type": "markdown",
   "id": "679c2fb3-6d10-44b2-b759-02ef48f62ec2",
   "metadata": {},
   "source": [
    "#### ***Analysis:***  There are a lot of missing records from the Receipt table"
   ]
  },
  {
   "cell_type": "code",
   "execution_count": 13,
   "id": "08eb6baf-1d96-420c-9065-4976b5f418ba",
   "metadata": {},
   "outputs": [
    {
     "name": "stdout",
     "output_type": "stream",
     "text": [
      "sum(bonusPointsEarned) sum(pointsEarned)\n",
      "                  None              None\n"
     ]
    }
   ],
   "source": [
    "# finding sum of bonusPointsEarned and pointsEarned when totalSpend is null\n",
    "query = \"select sum(bonusPointsEarned), sum(pointsEarned) from receipts where totalSpent is null\"\n",
    "query_df = pd.read_sql(query, conn)\n",
    "print(query_df.to_string(index=False))"
   ]
  },
  {
   "cell_type": "markdown",
   "id": "39d9fa12-6e73-4e28-86a4-832bd8b71b4f",
   "metadata": {},
   "source": [
    "#### ***Analysis:*** Many totalSpent records are missing, and hence it can be seen that bonusPointsEarned and pointsEarned are interdependent on totalSpent value"
   ]
  },
  {
   "cell_type": "code",
   "execution_count": 14,
   "id": "5f9ad9b8-505f-4bae-95cc-f4cee48137aa",
   "metadata": {},
   "outputs": [
    {
     "name": "stdout",
     "output_type": "stream",
     "text": [
      "sum(bonusPointsEarned) sum(pointsEarned)\n",
      "                  None              None\n"
     ]
    }
   ],
   "source": [
    "# finding sum of bonusPointsEarned and pointsEarned when purchasedItemCount is null\n",
    "query = \"select sum(bonusPointsEarned), sum(pointsEarned) from receipts where purchasedItemCount is null\"\n",
    "query_df = pd.read_sql(query, conn)\n",
    "print(query_df.to_string(index=False))"
   ]
  },
  {
   "cell_type": "markdown",
   "id": "0c1f98ad-d5d5-419a-8a51-b4c1a1e5875d",
   "metadata": {},
   "source": [
    "#### ***Analysis:*** Many purchasedItemCount records are missing, and hence it can be seen that bonusPointsEarned and pointsEarned are interdependent on purchasedItemCount value"
   ]
  },
  {
   "cell_type": "markdown",
   "id": "3f4a24d5-60c2-46e7-a78e-a4e0df9140c0",
   "metadata": {
    "jp-MarkdownHeadingCollapsed": true
   },
   "source": [
    "# Finding data quality issues in ***Receipt Items*** table"
   ]
  },
  {
   "cell_type": "code",
   "execution_count": 15,
   "id": "f4a86876-00a1-4876-8a7b-612afd08ba7f",
   "metadata": {},
   "outputs": [
    {
     "name": "stdout",
     "output_type": "stream",
     "text": [
      "receiptID                                0\n",
      "competitiveProduct                    6296\n",
      "originalMetaBriteBarcode              6917\n",
      "originalFinalPrice                    6932\n",
      "pointsNotAwardedReason                6601\n",
      "preventTargetGapPoints                6583\n",
      "competitorRewardsGroup                6666\n",
      "originalMetaBriteDescription          6931\n",
      "userFlaggedQuantity                   6642\n",
      "itemNumber                            6788\n",
      "barcode                               3851\n",
      "originalMetaBriteItemPrice            6932\n",
      "rewardsGroup                          5210\n",
      "userFlaggedDescription                6787\n",
      "finalPrice                             174\n",
      "userFlaggedNewItem                    6618\n",
      "needsFetchReview                      6128\n",
      "pointsPayerId                         5674\n",
      "deleted                               6932\n",
      "userFlaggedBarcode                    6604\n",
      "itemPrice                              174\n",
      "originalMetaBriteQuantityPurchased    6926\n",
      "description                            381\n",
      "userFlaggedPrice                      6642\n",
      "priceAfterCoupon                      5985\n",
      "metabriteCampaignId                   6078\n",
      "pointsEarned                          6014\n",
      "targetPrice                           6563\n",
      "quantityPurchased                      174\n",
      "brandCode                             4341\n",
      "needsFetchReviewReason                6722\n",
      "rewardsProductPartnerId               4672\n",
      "originalReceiptItemText               1181\n",
      "partnerItemId                            0\n",
      "discountedItemPrice                   1172\n",
      "dtype: int64\n"
     ]
    }
   ],
   "source": [
    "# finding count of missing values from every column in the receipts table\n",
    "print(receipts_items.isnull().sum())"
   ]
  },
  {
   "cell_type": "markdown",
   "id": "e97143ff-579c-48b0-948d-f31110bd9f8c",
   "metadata": {},
   "source": [
    "####  ***Analysis:*** There are many missing values in most of the fields, but key fields like barcode (uniquely distinguishes an item), brandCode (says about the brand), have many null values, and as these values are useful as brand information can be understood by them."
   ]
  },
  {
   "cell_type": "code",
   "execution_count": 16,
   "id": "3666ccff-eddf-482a-9f31-015e322d37b4",
   "metadata": {},
   "outputs": [
    {
     "name": "stdout",
     "output_type": "stream",
     "text": [
      " brands_missingBrandCode\n",
      "                     186\n"
     ]
    }
   ],
   "source": [
    "# Finding barcodes that are available in receipts_item table but missing from the brands table\n",
    "brands_missingBrandCode = \"\"\"select count(distinct a.BrandCode) brands_missingBrandCode\n",
    "        from receipts_items a\n",
    "        left join brands b\n",
    "        on a.BrandCode = b.BrandCode \n",
    "        where b.BrandCode is null\n",
    "        \"\"\"\n",
    "\n",
    "brands_missingBrandCode_df = pd.read_sql(brands_missingBrandCode, conn)\n",
    "print(brands_missingBrandCode_df.to_string(index=False))"
   ]
  },
  {
   "attachments": {},
   "cell_type": "markdown",
   "id": "1ae06977-1fd2-4966-a72b-9f8019e90ff8",
   "metadata": {},
   "source": [
    "#### ***Analysis:*** A total of 186 barcodes were missing from the brand table, these barcode are very important to find the brandName. The possibility of these brandCode missing in the brands table are: 1. They don't exist; 2. They are not formatted properly (e.g \"BEN & JERRY'S\" in Brands but \"BEN AND JERRYS\" in receipts_items"
   ]
  },
  {
   "cell_type": "code",
   "execution_count": 17,
   "id": "b2bdf454-36c4-4ff9-b0fb-28df53c8af55",
   "metadata": {},
   "outputs": [
    {
     "name": "stdout",
     "output_type": "stream",
     "text": [
      " brands_missingBarcode\n",
      "                   552\n"
     ]
    }
   ],
   "source": [
    "# Finding barcodes that are available in receipts_item table but missing from the brands table\n",
    "brands_missingBarcode = \"\"\"select count(distinct a.barcode) brands_missingBarcode\n",
    "        from receipts_items a\n",
    "        left join brands b\n",
    "        on a.barcode = b.barcode \n",
    "        where b.barcode is null\n",
    "        \"\"\"\n",
    "\n",
    "brands_missingBarcode_df = pd.read_sql(brands_missingBarcode, conn)\n",
    "print(brands_missingBarcode_df.to_string(index=False))"
   ]
  },
  {
   "cell_type": "markdown",
   "id": "fbadf732-ba67-439b-be6c-576c0e6bf75e",
   "metadata": {},
   "source": [
    "####  ***Analysis:*** A total of 552 barcodes were missing from the brand table"
   ]
  },
  {
   "attachments": {},
   "cell_type": "markdown",
   "id": "80d45d94-2bd9-4e5c-8431-e81d75aa9367",
   "metadata": {},
   "source": [
    "#### ***IMPORTANT ANALYSIS:*** Theere is no defined relationship between the receipt and receipt_items table with the brand table, because of which it is difficult to fetch the brand details with the granularity of an item or receipt. Potential relation between the receipt_items table and brand table could be made by the below columns, but it has its own limitations.\n",
    "\n",
    "1. Barcode: The barcode in the brands table is at a granularity of the brand, whereas the barcode in the item is at the item level. So there would be multiple barcodes for a single brand in the receipt_items table, but only 1 in brands table; hence many barocde are missing in the brand table.\n",
    "2. BrandCode: Brandcode values are missing in the brands table, and if they exist there is no proper formatting between brands and receipt_items table"
   ]
  },
  {
   "cell_type": "markdown",
   "id": "d640b25b-779b-4f8e-90b7-7b431f90d4b8",
   "metadata": {
    "jp-MarkdownHeadingCollapsed": true
   },
   "source": [
    "# Finding Data Quality issue while solving stakeholder questions"
   ]
  },
  {
   "cell_type": "markdown",
   "id": "ca66b291-a94e-4b77-a20a-8b41255d0925",
   "metadata": {},
   "source": [
    "## Q. What are the top 5 brands by receipts scanned for most recent month?"
   ]
  },
  {
   "cell_type": "code",
   "execution_count": 18,
   "id": "656b2834-c4a8-4f79-86b9-f962501802f5",
   "metadata": {},
   "outputs": [],
   "source": [
    "\n",
    "query1 = \"\"\"with ReceiptRecentScannedDate as \n",
    "            (\n",
    "           select receiptID, dateScanned\n",
    "           from receipts \n",
    "           where strftime('%Y-%m', dateScanned) = (select strftime('%Y-%m', max(dateScanned)) from receipts)\n",
    "           ),\n",
    "           \n",
    "            barcodeRecentScannedDate as(\n",
    "            select a.receiptID, a.dateScanned, b.barcode, b.Brandcode, b.rewardsProductPartnerId\n",
    "            from receipts a\n",
    "            inner join receipts_items b\n",
    "            on a.receiptID = b.receiptID\n",
    "            where a.receiptID in (select receiptID from ReceiptRecentScannedDate)\n",
    "            )\n",
    "            \n",
    "            select brandName, count(brandName)\n",
    "            from brands\n",
    "            where barcode in (select barcode from barcodeRecentScannedDate)\n",
    "            group by barcode\n",
    "           \"\"\""
   ]
  },
  {
   "cell_type": "code",
   "execution_count": 19,
   "id": "64ab102f-4260-4875-87a7-edb169a8209c",
   "metadata": {},
   "outputs": [
    {
     "name": "stdout",
     "output_type": "stream",
     "text": [
      "Empty DataFrame\n",
      "Columns: [brandName, count(brandName)]\n",
      "Index: []\n"
     ]
    }
   ],
   "source": [
    "query1_df = pd.read_sql(query1, conn)\n",
    "print(query1_df.to_string(index=False))"
   ]
  },
  {
   "cell_type": "markdown",
   "id": "fd54078d-bf70-467d-8ef0-5928ca08e4db",
   "metadata": {},
   "source": [
    "#### ***Analysis:*** Getting a Data quality issue here, as the barcodes fetched for the receipts that were scanned for the most recent month are not there in the brand table. I couldn't even consider Brandcode or rewardsProductPartnerId as both of them are null values"
   ]
  },
  {
   "cell_type": "markdown",
   "id": "1d6682a9-7418-4ffa-abba-e88828819d77",
   "metadata": {},
   "source": [
    "## Q. How does the ranking of the top 5 brands by receipts scanned for the recent month compare to the ranking for the previous month?"
   ]
  },
  {
   "cell_type": "code",
   "execution_count": 20,
   "id": "366c57d9-9c53-4906-ba30-4932ed1c2f68",
   "metadata": {},
   "outputs": [],
   "source": [
    "\n",
    "query2 = \"\"\"with ReceiptPreviousScannedDate as \n",
    "            (\n",
    "           select receiptID, dateScanned\n",
    "           from receipts \n",
    "           where strftime('%Y-%m', dateScanned) = (select strftime('%Y-%m', DATE(max(dateScanned), '-1 month')) from receipts)\n",
    "           ),\n",
    "           \n",
    "            barcodePreviousScannedDate as(\n",
    "            select a.receiptID, a.dateScanned, b.barcode, b.Brandcode, b.rewardsProductPartnerId\n",
    "            from receipts a\n",
    "            inner join receipts_items b\n",
    "            on a.receiptID = b.receiptID\n",
    "            where a.receiptID in (select receiptID from ReceiptPreviousScannedDate)\n",
    "            )\n",
    "                        \n",
    "            select brandName, count(brandName)\n",
    "            from brands\n",
    "            where barcode in (select barcode from barcodePreviousScannedDate)\n",
    "            group by barcode\n",
    "\n",
    "           \"\"\"\n"
   ]
  },
  {
   "cell_type": "code",
   "execution_count": 21,
   "id": "c96fc59b-dcde-40fb-97c1-8683ee3a4edc",
   "metadata": {},
   "outputs": [
    {
     "name": "stdout",
     "output_type": "stream",
     "text": [
      "Empty DataFrame\n",
      "Columns: [brandName, count(brandName)]\n",
      "Index: []\n"
     ]
    }
   ],
   "source": [
    "query2_df = pd.read_sql(query2, conn)\n",
    "print(query2_df.to_string(index=False))"
   ]
  },
  {
   "cell_type": "markdown",
   "id": "cef8e3ec-233e-4869-b914-dd2c80fc5474",
   "metadata": {},
   "source": [
    "#### ***Analysis:*** Getting a Data quality issue here, as the barcodes fetched for the receipts that were scanned for the previous month are not there in the brand table."
   ]
  }
 ],
 "metadata": {
  "kernelspec": {
   "display_name": "Python 3 (ipykernel)",
   "language": "python",
   "name": "python3"
  },
  "language_info": {
   "codemirror_mode": {
    "name": "ipython",
    "version": 3
   },
   "file_extension": ".py",
   "mimetype": "text/x-python",
   "name": "python",
   "nbconvert_exporter": "python",
   "pygments_lexer": "ipython3",
   "version": "3.13.2"
  }
 },
 "nbformat": 4,
 "nbformat_minor": 5
}
