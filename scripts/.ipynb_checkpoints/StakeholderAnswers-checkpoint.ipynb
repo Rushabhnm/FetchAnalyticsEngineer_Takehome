{
 "cells": [
  {
   "cell_type": "markdown",
   "id": "dc2e5dcf-fa7d-4d48-a485-9d2f9a403c4d",
   "metadata": {},
   "source": [
    "# In this codebase, Stackholder related Business questions are answered"
   ]
  },
  {
   "cell_type": "code",
   "execution_count": 1,
   "id": "8fc679e5-dd50-4fe3-bca2-b77652a56154",
   "metadata": {},
   "outputs": [],
   "source": [
    "import pandas as pd\n",
    "import sqlite3"
   ]
  },
  {
   "cell_type": "code",
   "execution_count": 2,
   "id": "a20b96c3-cec0-48ca-929c-60c6e000f3c3",
   "metadata": {},
   "outputs": [],
   "source": [
    "# creating in-memory SQL database\n",
    "conn = sqlite3.connect(':memory:') "
   ]
  },
  {
   "cell_type": "code",
   "execution_count": 3,
   "id": "48aac855-3b66-4da6-9353-b58b953be840",
   "metadata": {},
   "outputs": [],
   "source": [
    "# reading the CSV files \n",
    "users = pd.read_csv(\"../cleansed_file/users_cleansed_data.csv\")\n",
    "brands = pd.read_csv(\"../cleansed_file/brands_cleansed_data.csv\")\n",
    "receipts = pd.read_csv(\"../cleansed_file/cleansed_receipts.csv\")\n",
    "receipts_items = pd.read_csv(\"../cleansed_file/cleansed_receipt_items.csv\")"
   ]
  },
  {
   "cell_type": "code",
   "execution_count": 4,
   "id": "80bbf791-cee9-4255-9c68-98dd50413a8d",
   "metadata": {},
   "outputs": [
    {
     "data": {
      "text/plain": [
       "6941"
      ]
     },
     "execution_count": 4,
     "metadata": {},
     "output_type": "execute_result"
    }
   ],
   "source": [
    "# creating tables in the in-memory SQLite database using the dataframe\n",
    "users.to_sql('users', conn, index=False, if_exists='replace')\n",
    "brands.to_sql('brands', conn, index=False, if_exists='replace')\n",
    "receipts.to_sql('receipts', conn, index=False, if_exists='replace')\n",
    "receipts_items.to_sql('receipts_items', conn, index=False, if_exists='replace')"
   ]
  },
  {
   "cell_type": "markdown",
   "id": "4023f235-87e1-4526-9460-c5130117fd98",
   "metadata": {
    "jp-MarkdownHeadingCollapsed": true
   },
   "source": [
    "## Q. When considering average spend from receipts with 'rewardsReceiptStatus’ of ‘Accepted’ or ‘Rejected’, which is greater?\n"
   ]
  },
  {
   "cell_type": "code",
   "execution_count": 5,
   "id": "f314040f-b88a-40a6-a76c-f43b1fa9d86b",
   "metadata": {},
   "outputs": [],
   "source": [
    "q1_avgSpend = \"\"\"with cte as(\n",
    "                    select \n",
    "                        avg(case \n",
    "                                when rewardsReceiptStatus = 'FINISHED' or rewardsReceiptStatus = 'ACCEPTED' \n",
    "                                then totalSpent \n",
    "                        end) Accepted_avgTotalSpend,\n",
    "                        avg(case when rewardsReceiptStatus = 'REJECTED' \n",
    "                                then totalSpent \n",
    "                        end) Rejected_avgTotalSpend\n",
    "                    from receipts\n",
    "                )\n",
    "                select \n",
    "                case \n",
    "                    when Accepted_avgTotalSpend>Rejected_avgTotalSpend \n",
    "                    then 'Accepted' \n",
    "                    else 'Rejected'\n",
    "                end  Q1_ans\n",
    "                from cte;\"\"\""
   ]
  },
  {
   "cell_type": "code",
   "execution_count": 6,
   "id": "d0ef3042-e4df-4a3a-b052-5a6803233e11",
   "metadata": {},
   "outputs": [
    {
     "name": "stdout",
     "output_type": "stream",
     "text": [
      "  Q1_ans\n",
      "Accepted\n"
     ]
    }
   ],
   "source": [
    "q1_avgSpend_df = pd.read_sql(q1_avgSpend, conn)\n",
    "print(q1_avgSpend_df.to_string(index=False))"
   ]
  },
  {
   "cell_type": "markdown",
   "id": "18cde298-bcdd-4185-aa76-58da4f8fb03b",
   "metadata": {
    "jp-MarkdownHeadingCollapsed": true
   },
   "source": [
    "## Q. When considering total number of items purchased from receipts with 'rewardsReceiptStatus’ of ‘Accepted’ or ‘Rejected’, which is greater?\n"
   ]
  },
  {
   "cell_type": "code",
   "execution_count": 7,
   "id": "5d4dcc59-398b-465f-90c8-279762b206f6",
   "metadata": {},
   "outputs": [],
   "source": [
    "q2_sumCount = \"\"\"with cte as(\n",
    "                select \n",
    "                    sum(case \n",
    "                            when rewardsReceiptStatus = 'FINISHED' or rewardsReceiptStatus = 'ACCEPTED'\n",
    "                            then purchasedItemCount \n",
    "                    end) Accepted_sumTotalCount,\n",
    "                    sum(case \n",
    "                        when rewardsReceiptStatus = 'REJECTED' \n",
    "                        then purchasedItemCount \n",
    "                    end) Rejected_sumTotalCount\n",
    "                from receipts)\n",
    "                select \n",
    "                case \n",
    "                    when Accepted_sumTotalCount>Rejected_sumTotalCount \n",
    "                    then 'Accepted' \n",
    "                    else 'Rejected'\n",
    "                end Q2_ans\n",
    "                from cte;\"\"\""
   ]
  },
  {
   "cell_type": "code",
   "execution_count": 8,
   "id": "576d4d51-eed7-4a28-83e4-eed8c9a8bcb0",
   "metadata": {},
   "outputs": [
    {
     "name": "stdout",
     "output_type": "stream",
     "text": [
      "  Q2_ans\n",
      "Accepted\n"
     ]
    }
   ],
   "source": [
    "q2_sumCount_df = pd.read_sql(q2_sumCount, conn)\n",
    "print(q2_sumCount_df.to_string(index=False))"
   ]
  },
  {
   "cell_type": "markdown",
   "id": "5ffc667c-9ef0-4d24-9aba-2e38b4d2dad9",
   "metadata": {},
   "source": [
    "## ***Note:*** As per the documentation provided, I'm considering barcode from the brands table to join receipt_items/receipts table with the brands table, (as barcode = the barcode on the item)"
   ]
  },
  {
   "cell_type": "markdown",
   "id": "6a5cb982-593b-4ac8-bbfc-2972398328f9",
   "metadata": {
    "jp-MarkdownHeadingCollapsed": true
   },
   "source": [
    "## Q. Which brand has the most spend among users who were created within the past 6 months?\n"
   ]
  },
  {
   "cell_type": "code",
   "execution_count": 9,
   "id": "95c62941-7c7a-4e13-8446-01e9e4654796",
   "metadata": {},
   "outputs": [],
   "source": [
    "q3_brandwmostspend = \"\"\"with cte as( \n",
    "                        SELECT userID\n",
    "                        FROM users \n",
    "                        WHERE createdDate >= (select DATE(max(createdDate), '-6 months') from users)\n",
    "                        )\n",
    "                        select C.brandName, sum(b.itemPrice) total_price\n",
    "                        from receipts a\n",
    "                        inner join receipts_items b\n",
    "                        on a.receiptID = b.receiptID\n",
    "                        inner join brands c\n",
    "                        on b.barcode = c.barcode\n",
    "                        where b.barcode is not null\n",
    "                        and a.userID in (select userID from cte)\n",
    "                        group by b.barcode\n",
    "                        order by total_price desc\n",
    "                     \"\"\""
   ]
  },
  {
   "cell_type": "code",
   "execution_count": 10,
   "id": "f2242ab2-a31d-4b34-ac10-65375645677f",
   "metadata": {},
   "outputs": [
    {
     "name": "stdout",
     "output_type": "stream",
     "text": [
      "            brandName  total_price\n",
      "Cracker Barrel Cheese       196.98\n",
      "             Tostitos        80.66\n",
      "              Swanson        61.38\n",
      "              Cheetos        22.00\n",
      "                   V8        13.49\n",
      "         Kettle Brand        11.07\n",
      "      Diet Chris Cola        10.76\n",
      "      Pepperidge Farm         9.00\n",
      "               Jell-O         4.99\n",
      "               Quaker         3.99\n",
      "          Grey Poupon         3.29\n"
     ]
    }
   ],
   "source": [
    "q3_brandwmostspend_df = pd.read_sql(q3_brandwmostspend, conn)\n",
    "print(q3_brandwmostspend_df.to_string(index=False))"
   ]
  },
  {
   "cell_type": "markdown",
   "id": "b3c66446-58c2-4466-9d7b-30045c7f8dad",
   "metadata": {
    "jp-MarkdownHeadingCollapsed": true
   },
   "source": [
    "## Q. Which brand has the most transactions among users who were created within the past 6 months?\n"
   ]
  },
  {
   "cell_type": "code",
   "execution_count": 11,
   "id": "705637bf-1d58-4336-9c29-0c58d46bd63a",
   "metadata": {},
   "outputs": [],
   "source": [
    "q3_brandmosttransaction = \"\"\"with cte as( \n",
    "                        SELECT userID\n",
    "                        FROM users \n",
    "                        WHERE createdDate >= (select DATE(max(createdDate), '-6 months') from users)\n",
    "                        )\n",
    "                        select C.brandName, count(C.brandName) total_transaction\n",
    "                        from receipts a\n",
    "                        inner join receipts_items b\n",
    "                        on a.receiptID = b.receiptID\n",
    "                        inner join brands c\n",
    "                        on b.barcode = c.barcode\n",
    "                        where b.barcode is not null\n",
    "                        and a.userID in (select userID from cte)\n",
    "                        group by C.brandName\n",
    "                        order by total_transaction desc\n",
    "                     \"\"\""
   ]
  },
  {
   "cell_type": "code",
   "execution_count": 12,
   "id": "430ce058-17cf-4fb0-a377-d3d76310f9b2",
   "metadata": {},
   "outputs": [
    {
     "name": "stdout",
     "output_type": "stream",
     "text": [
      "            brandName  total_transaction\n",
      "             Tostitos                 23\n",
      "              Swanson                 11\n",
      "      Pepperidge Farm                  3\n",
      "         Kettle Brand                  3\n",
      "                   V8                  2\n",
      "                Prego                  2\n",
      "               Jell-O                  2\n",
      "      Diet Chris Cola                  2\n",
      "Cracker Barrel Cheese                  2\n",
      "               Quaker                  1\n",
      "          Grey Poupon                  1\n",
      "              Cheetos                  1\n"
     ]
    }
   ],
   "source": [
    "q3_brandmosttransaction_df = pd.read_sql(q3_brandmosttransaction, conn)\n",
    "print(q3_brandmosttransaction_df.to_string(index=False))"
   ]
  }
 ],
 "metadata": {
  "kernelspec": {
   "display_name": "Python 3 (ipykernel)",
   "language": "python",
   "name": "python3"
  },
  "language_info": {
   "codemirror_mode": {
    "name": "ipython",
    "version": 3
   },
   "file_extension": ".py",
   "mimetype": "text/x-python",
   "name": "python",
   "nbconvert_exporter": "python",
   "pygments_lexer": "ipython3",
   "version": "3.13.2"
  }
 },
 "nbformat": 4,
 "nbformat_minor": 5
}
